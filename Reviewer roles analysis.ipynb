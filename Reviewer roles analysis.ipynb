{
 "cells": [
  {
   "cell_type": "code",
   "execution_count": null,
   "id": "12829b61",
   "metadata": {},
   "outputs": [],
   "source": [
    "import collections\n",
    "import json\n",
    "import matplotlib.pyplot as plt\n",
    "import pandas as pd\n",
    "import seaborn as sns\n",
    "import tqdm\n",
    "from sklearn.feature_extraction import DictVectorizer\n",
    "import numpy as np\n",
    "from matplotlib.lines import Line2D\n",
    "from matplotlib.markers import MarkerStyle\n",
    "from ExKMC.Tree import Tree\n",
    "\n",
    "import reviewer_roles_lib\n",
    "\n",
    "with open('features.json', 'r') as f:\n",
    "    features_list = json.load(f)\n",
    "    \n",
    "features_df = pd.DataFrame.from_dict(features_list)"
   ]
  },
  {
   "cell_type": "code",
   "execution_count": null,
   "id": "eea09f7e",
   "metadata": {},
   "outputs": [],
   "source": [
    "agreeability = [i for i in features_df[\"agreeability\"] if i is not None]\n",
    "sns.histplot(data=agreeability, bins=20)"
   ]
  },
  {
   "cell_type": "code",
   "execution_count": null,
   "id": "2c72f74e",
   "metadata": {},
   "outputs": [],
   "source": [
    "politeness_feature_names = [feat for feat in features_df.columns if feat.startswith(\"feature_politeness\")]\n",
    "politeness_df = features_df[politeness_feature_names]\n",
    "politeness_df = politeness_df.loc[:, (politeness_df != 0).any(axis=0)] # Drop all 0 rows\n",
    "politeness_df = politeness_df.loc[:, (politeness_df != 1).any(axis=0)] # Drop all 0 rows\n",
    "\n",
    "sns.heatmap(politeness_df.corr())"
   ]
  },
  {
   "cell_type": "code",
   "execution_count": null,
   "id": "4adf877e",
   "metadata": {},
   "outputs": [],
   "source": [
    "def get_review_label_map(features_list):\n",
    "    review_label_map = {}\n",
    "    for feature_map in features_list:\n",
    "        review_label_map[feature_map[\"review_id\"]] = {k:v for k,v in feature_map.items() if type(v) in [int, float]}\n",
    "    return review_label_map\n",
    "\n",
    "review_label_map = get_review_label_map(features_list)\n",
    "sorted_review_ids = sorted(review_label_map.keys())\n",
    "featurized_labels = [review_label_map[k] for k in sorted_review_ids]\n",
    "feature_vectorizer = DictVectorizer()\n",
    "feature_array = feature_vectorizer.fit_transform(featurized_labels).toarray()\n",
    "\n",
    "\n",
    "for num_clusters in tqdm.tqdm(list(range(5,9))):\n",
    "    print(\"\\nRules for \", num_clusters, \" clusters\")\n",
    "    tree = Tree(k=num_clusters, max_leaves=num_clusters) \n",
    "    prediction = tree.fit_predict(feature_array)\n",
    "    tree.plot('tree_plot_'+str(num_clusters))\n",
    "    reviewer_roles_lib.tree_parser('tree_plot_'+str(num_clusters)+\".gv\", feature_vectorizer) "
   ]
  },
  {
   "cell_type": "code",
   "execution_count": null,
   "id": "0cd23c85",
   "metadata": {},
   "outputs": [],
   "source": [
    "norm_arg_names = [feat for feat in features_df.columns if feat.startswith(\"normalized_arg_\")]\n",
    "norm_arg_df = features_df[norm_arg_names].dropna()"
   ]
  },
  {
   "cell_type": "code",
   "execution_count": null,
   "id": "33347812",
   "metadata": {},
   "outputs": [],
   "source": [
    "CATEGORIES = list(sorted(norm_arg_df.columns))\n",
    "\n",
    "CATEGORY_RENAMER = {\n",
    "\"normalized_arg_evaluative\": \"Evaluative\",\n",
    "\"normalized_arg_fact\": \"Fact\",\n",
    "\"normalized_arg_other\": \"Other\",\n",
    "\"normalized_arg_request\": \"Request\",\n",
    "\"normalized_arg_social\": \"Social\",\n",
    "\"normalized_arg_structuring\": \"Structuring        \"\n",
    "}\n",
    "\n",
    "RENAMED_CATEGORIES = [CATEGORY_RENAMER[cat] for cat in CATEGORIES]\n",
    "\n",
    "MY_PALETTE = plt.cm.get_cmap(\"Set2\", 10)\n",
    "\n",
    "TITLES = [\n",
    "    \"Grumps\", \"Blerps\", \"Stramps\", \"Pleeps\"\n",
    "]\n",
    "\n",
    "\n",
    "axes = reviewer_roles_lib.initialize_spiders(CATEGORIES, RENAMED_CATEGORIES, TITLES)\n",
    "\n",
    "\n",
    "\n",
    "for i, row_dict in enumerate(norm_arg_df.to_dict(orient=\"records\")[:10]):\n",
    "    reviewer_roles_lib.make_spider(axes[i%4], row_dict, MY_PALETTE(i), CATEGORIES)\n",
    " \n",
    "plt.savefig(\"blerp.png\")"
   ]
  },
  {
   "cell_type": "code",
   "execution_count": null,
   "id": "d5db5c87",
   "metadata": {},
   "outputs": [],
   "source": [
    "\n",
    "fig, ax = plt.subplots(figsize=(20, 10), dpi=100)\n",
    "colors = plt.get_cmap('magma_r')(np.linspace(0.1, 0.9, 10))\n",
    "custom_markers = []\n",
    "legend_words = []\n",
    "\n",
    "def get_agreeability_rows(features_df):\n",
    "    subset = features_df[\"forum_id review_id agreeability rating\".split()]\n",
    "    accumulator = collections.defaultdict(list)\n",
    "    for k in subset.itertuples():\n",
    "        accumulator[k.forum_id].append((k.review_id, k.agreeability, k.rating))\n",
    "        \n",
    "    variances = {}\n",
    "    for forum, reviews in accumulator.items():\n",
    "        if len(reviews) == 1:\n",
    "            continue\n",
    "        forum_var = np.var([review[1] for review in reviews])\n",
    "        if np.isnan(forum_var):\n",
    "            continue\n",
    "        variances[forum] = forum_var\n",
    "        \n",
    "    sorted_forums = [k[0] for k in sorted(list(variances.items()), key=lambda x:x[1])]\n",
    "    \n",
    "   \n",
    "    agreeability_rows = []\n",
    "    \n",
    "    for k in subset.itertuples():\n",
    "        if k.forum_id in sorted_forums:\n",
    "            agreeability_rows.append((sorted_forums.index(k.forum_id), k.agreeability, k.rating))\n",
    "    \n",
    "    return pd.DataFrame(agreeability_rows, columns=\"forum_index agreeability rating\".split())\n",
    "\n",
    "\n",
    "agreeability_rows = get_agreeability_rows(features_df)\n",
    "for rating in range(3, 10):\n",
    "    newdf = agreeability_rows[(agreeability_rows.rating == rating)]\n",
    "    plt.scatter(data=newdf, x=\"forum_index\", y=\"agreeability\", s=100, color=colors[rating], marker=(rating, 1, 0))\n",
    "    custom_markers.append(Line2D([0], [0], marker=(rating, 1, 0), color=colors[rating], lw=0))\n",
    "    legend_words.append(\"Rating: {0}\".format(rating))\n",
    "\n",
    "ax.set_xlabel('Forum index (in increasing order of agreeableness variance)', fontsize=18)\n",
    "ax.set_ylabel('Agreeableness', fontsize=18)\n",
    "ax.legend(custom_markers, legend_words)\n",
    "                          "
   ]
  },
  {
   "cell_type": "code",
   "execution_count": null,
   "id": "a42fddf6",
   "metadata": {},
   "outputs": [],
   "source": []
  }
 ],
 "metadata": {
  "kernelspec": {
   "display_name": "Python 3 (ipykernel)",
   "language": "python",
   "name": "python3"
  },
  "language_info": {
   "codemirror_mode": {
    "name": "ipython",
    "version": 3
   },
   "file_extension": ".py",
   "mimetype": "text/x-python",
   "name": "python",
   "nbconvert_exporter": "python",
   "pygments_lexer": "ipython3",
   "version": "3.8.2"
  }
 },
 "nbformat": 4,
 "nbformat_minor": 5
}
